{
 "cells": [
  {
   "cell_type": "markdown",
   "metadata": {},
   "source": [
    "# FDA_HOMEWORK 3\n",
    "by 交管108_張仲宇_H54046070"
   ]
  },
  {
   "cell_type": "markdown",
   "metadata": {},
   "source": [
    "## Part 1: Logistic Regression"
   ]
  },
  {
   "cell_type": "code",
   "execution_count": 1,
   "metadata": {},
   "outputs": [],
   "source": [
    "import matplotlib.pyplot as plt\n",
    "from sklearn import linear_model, metrics, model_selection\n",
    "import numpy as np\n",
    "import pandas as pd\n",
    "from sklearn.linear_model import LogisticRegression\n",
    "import random"
   ]
  },
  {
   "cell_type": "markdown",
   "metadata": {},
   "source": [
    "### 資料處理"
   ]
  },
  {
   "cell_type": "code",
   "execution_count": 2,
   "metadata": {},
   "outputs": [],
   "source": [
    "data = pd.read_csv('data.csv')"
   ]
  },
  {
   "cell_type": "code",
   "execution_count": 3,
   "metadata": {},
   "outputs": [
    {
     "data": {
      "text/html": [
       "<div>\n",
       "<style scoped>\n",
       "    .dataframe tbody tr th:only-of-type {\n",
       "        vertical-align: middle;\n",
       "    }\n",
       "\n",
       "    .dataframe tbody tr th {\n",
       "        vertical-align: top;\n",
       "    }\n",
       "\n",
       "    .dataframe thead th {\n",
       "        text-align: right;\n",
       "    }\n",
       "</style>\n",
       "<table border=\"1\" class=\"dataframe\">\n",
       "  <thead>\n",
       "    <tr style=\"text-align: right;\">\n",
       "      <th></th>\n",
       "      <th>Date</th>\n",
       "      <th>Open Price</th>\n",
       "      <th>Close Price</th>\n",
       "      <th>High Price</th>\n",
       "      <th>Low Price</th>\n",
       "      <th>Volume</th>\n",
       "    </tr>\n",
       "  </thead>\n",
       "  <tbody>\n",
       "    <tr>\n",
       "      <th>0</th>\n",
       "      <td>02-Jan-2009</td>\n",
       "      <td>902.99</td>\n",
       "      <td>931.80</td>\n",
       "      <td>934.73</td>\n",
       "      <td>899.35</td>\n",
       "      <td>4048270080</td>\n",
       "    </tr>\n",
       "    <tr>\n",
       "      <th>1</th>\n",
       "      <td>05-Jan-2009</td>\n",
       "      <td>929.17</td>\n",
       "      <td>927.45</td>\n",
       "      <td>936.63</td>\n",
       "      <td>919.53</td>\n",
       "      <td>5413910016</td>\n",
       "    </tr>\n",
       "    <tr>\n",
       "      <th>2</th>\n",
       "      <td>06-Jan-2009</td>\n",
       "      <td>931.17</td>\n",
       "      <td>934.70</td>\n",
       "      <td>943.85</td>\n",
       "      <td>927.28</td>\n",
       "      <td>5392620032</td>\n",
       "    </tr>\n",
       "    <tr>\n",
       "      <th>3</th>\n",
       "      <td>07-Jan-2009</td>\n",
       "      <td>927.45</td>\n",
       "      <td>906.65</td>\n",
       "      <td>927.45</td>\n",
       "      <td>902.37</td>\n",
       "      <td>4704940032</td>\n",
       "    </tr>\n",
       "    <tr>\n",
       "      <th>4</th>\n",
       "      <td>08-Jan-2009</td>\n",
       "      <td>905.73</td>\n",
       "      <td>909.73</td>\n",
       "      <td>910.00</td>\n",
       "      <td>896.81</td>\n",
       "      <td>4991549952</td>\n",
       "    </tr>\n",
       "  </tbody>\n",
       "</table>\n",
       "</div>"
      ],
      "text/plain": [
       "          Date  Open Price  Close Price  High Price  Low Price      Volume\n",
       "0  02-Jan-2009      902.99       931.80      934.73     899.35  4048270080\n",
       "1  05-Jan-2009      929.17       927.45      936.63     919.53  5413910016\n",
       "2  06-Jan-2009      931.17       934.70      943.85     927.28  5392620032\n",
       "3  07-Jan-2009      927.45       906.65      927.45     902.37  4704940032\n",
       "4  08-Jan-2009      905.73       909.73      910.00     896.81  4991549952"
      ]
     },
     "execution_count": 3,
     "metadata": {},
     "output_type": "execute_result"
    }
   ],
   "source": [
    "data.head()"
   ]
  },
  {
   "cell_type": "markdown",
   "metadata": {},
   "source": [
    "---\n",
    "原始資料檔內並沒有交易量增減的欄位，所以接下來必須先判斷增減，\n",
    "\n",
    "因為是要預測的關係，所以我們想知道的是用第n天的資料，可不可以判斷第n+1天的增減，\n",
    "\n",
    "所以第n天的增減一欄顯示的是第n+1天與第n天比起來是增或減。\n",
    "\n",
    "---"
   ]
  },
  {
   "cell_type": "code",
   "execution_count": 4,
   "metadata": {},
   "outputs": [],
   "source": [
    "for i in range(len(data)-1):\n",
    "    if data.loc[i, 'Volume'] < data.loc[i+1, 'Volume']:\n",
    "        data.loc[i, 'Movement'] = 1\n",
    "    else:\n",
    "        data.loc[i, 'Movement'] = 0\n",
    "data = data.drop(len(data)-1)    # 去掉最後一row"
   ]
  },
  {
   "cell_type": "code",
   "execution_count": 5,
   "metadata": {},
   "outputs": [
    {
     "data": {
      "text/html": [
       "<div>\n",
       "<style scoped>\n",
       "    .dataframe tbody tr th:only-of-type {\n",
       "        vertical-align: middle;\n",
       "    }\n",
       "\n",
       "    .dataframe tbody tr th {\n",
       "        vertical-align: top;\n",
       "    }\n",
       "\n",
       "    .dataframe thead th {\n",
       "        text-align: right;\n",
       "    }\n",
       "</style>\n",
       "<table border=\"1\" class=\"dataframe\">\n",
       "  <thead>\n",
       "    <tr style=\"text-align: right;\">\n",
       "      <th></th>\n",
       "      <th>Date</th>\n",
       "      <th>Open Price</th>\n",
       "      <th>Close Price</th>\n",
       "      <th>High Price</th>\n",
       "      <th>Low Price</th>\n",
       "      <th>Volume</th>\n",
       "      <th>Movement</th>\n",
       "    </tr>\n",
       "  </thead>\n",
       "  <tbody>\n",
       "    <tr>\n",
       "      <th>2510</th>\n",
       "      <td>21-Dec-2018</td>\n",
       "      <td>2465.38</td>\n",
       "      <td>2416.62</td>\n",
       "      <td>2504.41</td>\n",
       "      <td>2408.55</td>\n",
       "      <td>4560164352</td>\n",
       "      <td>0.0</td>\n",
       "    </tr>\n",
       "    <tr>\n",
       "      <th>2511</th>\n",
       "      <td>24-Dec-2018</td>\n",
       "      <td>2400.56</td>\n",
       "      <td>2351.10</td>\n",
       "      <td>2410.34</td>\n",
       "      <td>2351.10</td>\n",
       "      <td>1662758784</td>\n",
       "      <td>1.0</td>\n",
       "    </tr>\n",
       "    <tr>\n",
       "      <th>2512</th>\n",
       "      <td>26-Dec-2018</td>\n",
       "      <td>2363.12</td>\n",
       "      <td>2467.70</td>\n",
       "      <td>2467.76</td>\n",
       "      <td>2346.58</td>\n",
       "      <td>2611875072</td>\n",
       "      <td>0.0</td>\n",
       "    </tr>\n",
       "    <tr>\n",
       "      <th>2513</th>\n",
       "      <td>27-Dec-2018</td>\n",
       "      <td>2442.50</td>\n",
       "      <td>2488.83</td>\n",
       "      <td>2489.10</td>\n",
       "      <td>2397.94</td>\n",
       "      <td>2386466304</td>\n",
       "      <td>0.0</td>\n",
       "    </tr>\n",
       "    <tr>\n",
       "      <th>2514</th>\n",
       "      <td>28-Dec-2018</td>\n",
       "      <td>2498.77</td>\n",
       "      <td>2485.74</td>\n",
       "      <td>2520.27</td>\n",
       "      <td>2472.89</td>\n",
       "      <td>2080726656</td>\n",
       "      <td>0.0</td>\n",
       "    </tr>\n",
       "  </tbody>\n",
       "</table>\n",
       "</div>"
      ],
      "text/plain": [
       "             Date  Open Price  Close Price  High Price  Low Price      Volume  \\\n",
       "2510  21-Dec-2018     2465.38      2416.62     2504.41    2408.55  4560164352   \n",
       "2511  24-Dec-2018     2400.56      2351.10     2410.34    2351.10  1662758784   \n",
       "2512  26-Dec-2018     2363.12      2467.70     2467.76    2346.58  2611875072   \n",
       "2513  27-Dec-2018     2442.50      2488.83     2489.10    2397.94  2386466304   \n",
       "2514  28-Dec-2018     2498.77      2485.74     2520.27    2472.89  2080726656   \n",
       "\n",
       "      Movement  \n",
       "2510       0.0  \n",
       "2511       1.0  \n",
       "2512       0.0  \n",
       "2513       0.0  \n",
       "2514       0.0  "
      ]
     },
     "execution_count": 5,
     "metadata": {},
     "output_type": "execute_result"
    }
   ],
   "source": [
    "data.tail()"
   ]
  },
  {
   "cell_type": "markdown",
   "metadata": {},
   "source": [
    "在Movement欄位中，1代表下一天的交易量會增加，0代表會減少。\n",
    "因為最後一天不會有值，所以我把他去掉。\n",
    "\n",
    "---"
   ]
  },
  {
   "cell_type": "markdown",
   "metadata": {},
   "source": [
    "### 切割檔案\n",
    "接下來將檔案依照日期分成train, test，2018年以後的為test。\n",
    "\n",
    "然後分別切割成x, y。"
   ]
  },
  {
   "cell_type": "code",
   "execution_count": 6,
   "metadata": {},
   "outputs": [],
   "source": [
    "data['Date']=pd.to_datetime(data['Date']) # 轉為日期格式\n",
    "train = data[data['Date'] <= pd.datetime(2017,12,31)].drop(['Date'], axis=1) # 日期在2018前的設為train\n",
    "test = data[data['Date'] > pd.datetime(2017,12,31)].drop(['Date'], axis=1)   # 日期在2018後的設為test"
   ]
  },
  {
   "cell_type": "code",
   "execution_count": 7,
   "metadata": {},
   "outputs": [],
   "source": [
    "x_train = train.loc[:, train.columns != 'Movement']\n",
    "y_train = train['Movement']\n",
    "x_test = test.loc[:, test.columns != 'Movement']\n",
    "y_test = test['Movement']"
   ]
  },
  {
   "cell_type": "markdown",
   "metadata": {},
   "source": [
    "### 視覺化檢視變數與交易量增減的關係"
   ]
  },
  {
   "cell_type": "code",
   "execution_count": 8,
   "metadata": {},
   "outputs": [],
   "source": [
    "def plot_feature(data, feature_name):\n",
    "    plt.figure(figsize=(10, 3))\n",
    "    plt.scatter(data[feature_name], data['Movement'], alpha=0.2)\n",
    "    plt.xlabel(feature_name)\n",
    "    plt.ylabel('Movement')\n",
    "    plt.show()"
   ]
  },
  {
   "cell_type": "code",
   "execution_count": 9,
   "metadata": {},
   "outputs": [
    {
     "data": {
      "image/png": "[encoded data removed]",
      "text/plain": [
       "<Figure size 720x216 with 1 Axes>"
      ]
     },
     "metadata": {
      "needs_background": "light"
     },
     "output_type": "display_data"
    },
    {
     "data": {
      "image/png": "[encoded data removed]",
      "text/plain": [
       "<Figure size 720x216 with 1 Axes>"
      ]
     },
     "metadata": {
      "needs_background": "light"
     },
     "output_type": "display_data"
    },
    {
     "data": {
      "image/png": "[encoded data removed]",
      "text/plain": [
       "<Figure size 720x216 with 1 Axes>"
      ]
     },
     "metadata": {
      "needs_background": "light"
     },
     "output_type": "display_data"
    },
    {
     "data": {
      "image/png": "[encoded data removed]",
      "text/plain": [
       "<Figure size 720x216 with 1 Axes>"
      ]
     },
     "metadata": {
      "needs_background": "light"
     },
     "output_type": "display_data"
    },
    {
     "data": {
      "image/png": "[encoded data removed]",
      "text/plain": [
       "<Figure size 720x216 with 1 Axes>"
      ]
     },
     "metadata": {
      "needs_background": "light"
     },
     "output_type": "display_data"
    }
   ],
   "source": [
    "names = ['Open Price', 'Close Price', 'High Price', 'Low Price', 'Volume']\n",
    "plot_feature(data, 'Open Price')\n",
    "plot_feature(data, 'Close Price')\n",
    "plot_feature(data, 'High Price')\n",
    "plot_feature(data, 'Low Price')\n",
    "plot_feature(data, 'Volume')"
   ]
  },
  {
   "cell_type": "markdown",
   "metadata": {},
   "source": [
    "從上面幾張圖看起來，並沒有呈現明顯的分類關係，不過為了做作業，還是得繼續使用分類器來分類QQ\n",
    "\n",
    "---\n",
    "接下來將資料套入羅吉斯迴歸中："
   ]
  },
  {
   "cell_type": "code",
   "execution_count": 10,
   "metadata": {},
   "outputs": [],
   "source": [
    "def evaluate(model, x_train, y_train, x_test, y_test):\n",
    "    train_preds = model.predict(x_train)\n",
    "    test_preds = model.predict(x_test)\n",
    "    train_acc = metrics.accuracy_score(y_train, train_preds)\n",
    "    test_acc = metrics.accuracy_score(y_test, test_preds)\n",
    "    print('Train accuracy: %s' % train_acc)\n",
    "    print('Test accuracy: %s' % test_acc)"
   ]
  },
  {
   "cell_type": "code",
   "execution_count": 11,
   "metadata": {},
   "outputs": [
    {
     "name": "stdout",
     "output_type": "stream",
     "text": [
      "Train accuracy: 0.5004416961130742\n",
      "Test accuracy: 0.4860557768924303\n"
     ]
    },
    {
     "name": "stderr",
     "output_type": "stream",
     "text": [
      "/Users/tachungco/anaconda3/lib/python3.7/site-packages/sklearn/linear_model/logistic.py:433: FutureWarning: Default solver will be changed to 'lbfgs' in 0.22. Specify a solver to silence this warning.\n",
      "  FutureWarning)\n"
     ]
    }
   ],
   "source": [
    "model = LogisticRegression().fit(x_train, y_train)\n",
    "evaluate(model, x_train, y_train, x_test, y_test)"
   ]
  },
  {
   "cell_type": "markdown",
   "metadata": {},
   "source": [
    "### Logistic Regression小結\n",
    "看起來準確率很低，甚至比隨便猜（機率=0.5）還要低...<br />\n",
    "\n",
    "從上面畫出來的圖散佈得這麼平均就可以知道這種2分的切割不OK，<br />\n",
    "所以接下來使用其他方法看看能不能提升準確率。\n",
    "\n",
    "---"
   ]
  },
  {
   "cell_type": "markdown",
   "metadata": {},
   "source": [
    "## Part 2: SVM\n",
    "---\n",
    "### 資料標準化\n",
    "因為上面已經將資料切分成train, test了，所以接下來我先進行資料的標準化。"
   ]
  },
  {
   "cell_type": "code",
   "execution_count": 12,
   "metadata": {},
   "outputs": [
    {
     "name": "stderr",
     "output_type": "stream",
     "text": [
      "/Users/tachungco/anaconda3/lib/python3.7/site-packages/sklearn/preprocessing/data.py:645: DataConversionWarning: Data with input dtype int64, float64 were all converted to float64 by StandardScaler.\n",
      "  return self.partial_fit(X, y)\n",
      "/Users/tachungco/anaconda3/lib/python3.7/site-packages/ipykernel_launcher.py:6: DataConversionWarning: Data with input dtype int64, float64 were all converted to float64 by StandardScaler.\n",
      "  \n",
      "/Users/tachungco/anaconda3/lib/python3.7/site-packages/ipykernel_launcher.py:7: DataConversionWarning: Data with input dtype int64, float64 were all converted to float64 by StandardScaler.\n",
      "  import sys\n"
     ]
    }
   ],
   "source": [
    "from sklearn.preprocessing import StandardScaler\n",
    "\n",
    "scaler = StandardScaler()\n",
    "scaler.fit(x_train)\n",
    "\n",
    "x_train_std = scaler.transform(x_train)\n",
    "x_test_std = scaler.transform(x_test)"
   ]
  },
  {
   "cell_type": "markdown",
   "metadata": {},
   "source": [
    "### 套入SVC"
   ]
  },
  {
   "cell_type": "code",
   "execution_count": 13,
   "metadata": {},
   "outputs": [],
   "source": [
    "from sklearn.svm import SVC\n",
    "from sklearn.metrics import accuracy_score"
   ]
  },
  {
   "cell_type": "code",
   "execution_count": 14,
   "metadata": {},
   "outputs": [
    {
     "name": "stdout",
     "output_type": "stream",
     "text": [
      "Penalty = 0.05, Train accuracy = 55.74 %, Test accuracy = 49.40 %\n"
     ]
    }
   ],
   "source": [
    "penalty = 0.05\n",
    "\n",
    "svm = SVC(C=penalty, kernel=\"linear\")\n",
    "svm.fit(x_train_std, y_train)\n",
    "\n",
    "acc_train = accuracy_score(y_train, svm.predict(x_train_std)) * 100\n",
    "acc_test = accuracy_score(y_test, svm.predict(x_test_std)) * 100\n",
    "print(\"Penalty = %.2f, Train accuracy = %.2f %%, Test accuracy = %.2f %%\" % (penalty, acc_train, acc_test))"
   ]
  },
  {
   "cell_type": "markdown",
   "metadata": {},
   "source": [
    "---\n",
    "可以看到，精準度還是比用猜的還要低。\n",
    "但下來還是要努力改一些參數看看是否能夠提升精準度。\n",
    "\n",
    "而視覺化的部分因為維度大於3的關係，所以這邊我就偷懶先省略。"
   ]
  },
  {
   "cell_type": "markdown",
   "metadata": {},
   "source": [
    "再來我使用迴圈，測試從0.01到3之間哪個penalty與kernel function的準確率最高，將他們畫成圖且將最高準確度的penalty印出來。\n",
    "\n",
    "---\n",
    "\n",
    "### 不同Penalty與Kernel Function測試\n",
    "\n",
    "### kernel=\"linear\""
   ]
  },
  {
   "cell_type": "code",
   "execution_count": 15,
   "metadata": {},
   "outputs": [],
   "source": [
    "data_plt = pd.DataFrame(columns=('penalty', 'acc_train', 'acc_test'))\n",
    "count = 0\n",
    "for i in np.linspace(start=0.01, stop=3, num=50):\n",
    "    penalty = i\n",
    "    \n",
    "    svm = SVC(C=penalty, kernel=\"linear\")\n",
    "    svm.fit(x_train_std, y_train)\n",
    "\n",
    "    acc_train = accuracy_score(y_train, svm.predict(x_train_std)) * 100\n",
    "    acc_test = accuracy_score(y_test, svm.predict(x_test_std)) * 100\n",
    "    data_plt.loc[count] = [penalty, acc_train, acc_test]\n",
    "    count += 1"
   ]
  },
  {
   "cell_type": "code",
   "execution_count": 16,
   "metadata": {},
   "outputs": [
    {
     "name": "stdout",
     "output_type": "stream",
     "text": [
      "The Best Accuracy:\n",
      "   penalty  acc_train   acc_test\n",
      "0     0.01  55.388693  50.199203\n"
     ]
    },
    {
     "data": {
      "image/png": "[encoded data removed]",
      "text/plain": [
       "<Figure size 432x288 with 1 Axes>"
      ]
     },
     "metadata": {
      "needs_background": "light"
     },
     "output_type": "display_data"
    }
   ],
   "source": [
    "plt.xlabel('Penalty')\n",
    "plt.ylabel('Accuracy (%)')\n",
    "\n",
    "plt.plot(data_plt['penalty'], data_plt['acc_test'], label='Test')\n",
    "plt.plot(data_plt['penalty'], data_plt['acc_train'], label='Train')\n",
    "plt.legend()\n",
    "print('The Best Accuracy:')\n",
    "print(data_plt[data_plt['acc_test'] == data_plt['acc_test'].max()])"
   ]
  },
  {
   "cell_type": "markdown",
   "metadata": {},
   "source": [
    "### kernel=\"poly\""
   ]
  },
  {
   "cell_type": "code",
   "execution_count": 17,
   "metadata": {},
   "outputs": [],
   "source": [
    "data_plt = pd.DataFrame(columns=('penalty', 'acc_train', 'acc_test'))\n",
    "count = 0\n",
    "for i in np.linspace(start=0.01, stop=3, num=50):\n",
    "    penalty = i\n",
    "    \n",
    "    svm = SVC(C=penalty, kernel=\"poly\")\n",
    "    svm.fit(x_train_std, y_train)\n",
    "\n",
    "    acc_train = accuracy_score(y_train, svm.predict(x_train_std)) * 100\n",
    "    acc_test = accuracy_score(y_test, svm.predict(x_test_std)) * 100\n",
    "    data_plt.loc[count] = [penalty, acc_train, acc_test]\n",
    "    count += 1"
   ]
  },
  {
   "cell_type": "code",
   "execution_count": 18,
   "metadata": {},
   "outputs": [
    {
     "name": "stdout",
     "output_type": "stream",
     "text": [
      "The Best Accuracy:\n",
      "     penalty  acc_train   acc_test\n",
      "1   0.071020  52.826855  49.800797\n",
      "2   0.132041  52.826855  49.800797\n",
      "3   0.193061  53.003534  49.800797\n",
      "4   0.254082  53.136042  49.800797\n",
      "5   0.315102  53.047703  49.800797\n",
      "6   0.376122  53.268551  49.800797\n",
      "7   0.437143  53.401060  49.800797\n",
      "8   0.498163  53.533569  49.800797\n",
      "9   0.559184  53.577739  49.800797\n",
      "10  0.620204  53.533569  49.800797\n",
      "11  0.681224  53.621908  49.800797\n",
      "12  0.742245  53.666078  49.800797\n",
      "13  0.803265  53.710247  49.800797\n",
      "14  0.864286  53.931095  49.800797\n",
      "15  0.925306  53.710247  49.800797\n",
      "16  0.986327  54.107774  49.800797\n",
      "17  1.047347  54.063604  49.800797\n",
      "18  1.108367  54.019435  49.800797\n",
      "19  1.169388  53.975265  49.800797\n",
      "20  1.230408  53.975265  49.800797\n",
      "21  1.291429  53.975265  49.800797\n",
      "22  1.352449  53.931095  49.800797\n",
      "23  1.413469  53.931095  49.800797\n",
      "24  1.474490  54.019435  49.800797\n",
      "25  1.535510  54.019435  49.800797\n",
      "26  1.596531  54.107774  49.800797\n",
      "27  1.657551  54.151943  49.800797\n",
      "28  1.718571  54.151943  49.800797\n",
      "29  1.779592  54.151943  49.800797\n",
      "30  1.840612  54.196113  49.800797\n",
      "31  1.901633  54.240283  49.800797\n",
      "32  1.962653  54.196113  49.800797\n",
      "33  2.023673  54.240283  49.800797\n",
      "34  2.084694  54.240283  49.800797\n",
      "35  2.145714  54.240283  49.800797\n",
      "36  2.206735  54.328622  49.800797\n",
      "37  2.267755  54.372792  49.800797\n",
      "38  2.328776  54.328622  49.800797\n",
      "39  2.389796  54.416961  49.800797\n",
      "40  2.450816  54.328622  49.800797\n",
      "41  2.511837  54.328622  49.800797\n",
      "42  2.572857  54.461131  49.800797\n",
      "43  2.633878  54.328622  49.800797\n",
      "44  2.694898  54.328622  49.800797\n",
      "45  2.755918  54.284452  49.800797\n",
      "46  2.816939  54.284452  49.800797\n",
      "47  2.877959  54.284452  49.800797\n",
      "48  2.938980  54.284452  49.800797\n",
      "49  3.000000  54.196113  49.800797\n"
     ]
    },
    {
     "data": {
      "image/png": "[encoded data removed]",
      "text/plain": [
       "<Figure size 432x288 with 1 Axes>"
      ]
     },
     "metadata": {
      "needs_background": "light"
     },
     "output_type": "display_data"
    }
   ],
   "source": [
    "plt.xlabel('Penalty')\n",
    "plt.ylabel('Accuracy (%)')\n",
    "\n",
    "plt.plot(data_plt['penalty'], data_plt['acc_test'], label='Test')\n",
    "plt.plot(data_plt['penalty'], data_plt['acc_train'], label='Train')\n",
    "plt.legend()\n",
    "print('The Best Accuracy:')\n",
    "print(data_plt[data_plt['acc_test'] == data_plt['acc_test'].max()])"
   ]
  },
  {
   "cell_type": "markdown",
   "metadata": {},
   "source": [
    "### kernel=\"rbf\""
   ]
  },
  {
   "cell_type": "code",
   "execution_count": 19,
   "metadata": {},
   "outputs": [],
   "source": [
    "data_plt = pd.DataFrame(columns=('penalty', 'acc_train', 'acc_test'))\n",
    "count = 0\n",
    "for i in np.linspace(start=0.01, stop=3, num=50):\n",
    "    penalty = i\n",
    "    \n",
    "    svm = SVC(C=penalty, kernel=\"rbf\")\n",
    "    svm.fit(x_train_std, y_train)\n",
    "\n",
    "    acc_train = accuracy_score(y_train, svm.predict(x_train_std)) * 100\n",
    "    acc_test = accuracy_score(y_test, svm.predict(x_test_std)) * 100\n",
    "    data_plt.loc[count] = [penalty, acc_train, acc_test]\n",
    "    count += 1"
   ]
  },
  {
   "cell_type": "code",
   "execution_count": 20,
   "metadata": {},
   "outputs": [
    {
     "name": "stdout",
     "output_type": "stream",
     "text": [
      "The Best Accuracy:\n",
      "    penalty  acc_train   acc_test\n",
      "5  0.315102   63.69258  62.549801\n"
     ]
    },
    {
     "data": {
      "image/png": "[encoded data removed]",
      "text/plain": [
       "<Figure size 432x288 with 1 Axes>"
      ]
     },
     "metadata": {
      "needs_background": "light"
     },
     "output_type": "display_data"
    }
   ],
   "source": [
    "plt.xlabel('Penalty')\n",
    "plt.ylabel('Accuracy (%)')\n",
    "\n",
    "plt.plot(data_plt['penalty'], data_plt['acc_test'], label='Test')\n",
    "plt.plot(data_plt['penalty'], data_plt['acc_train'], label='Train')\n",
    "plt.legend()\n",
    "print('The Best Accuracy:')\n",
    "print(data_plt[data_plt['acc_test'] == data_plt['acc_test'].max()])"
   ]
  },
  {
   "cell_type": "markdown",
   "metadata": {},
   "source": [
    "### kernel=\"sigmoid\""
   ]
  },
  {
   "cell_type": "code",
   "execution_count": 21,
   "metadata": {},
   "outputs": [],
   "source": [
    "data_plt = pd.DataFrame(columns=('penalty', 'acc_train', 'acc_test'))\n",
    "count = 0\n",
    "for i in np.linspace(start=0.01, stop=3, num=50):\n",
    "    penalty = i\n",
    "    \n",
    "    svm = SVC(C=penalty, kernel=\"sigmoid\")\n",
    "    svm.fit(x_train_std, y_train)\n",
    "\n",
    "    acc_train = accuracy_score(y_train, svm.predict(x_train_std)) * 100\n",
    "    acc_test = accuracy_score(y_test, svm.predict(x_test_std)) * 100\n",
    "    data_plt.loc[count] = [penalty, acc_train, acc_test]\n",
    "    count += 1"
   ]
  },
  {
   "cell_type": "code",
   "execution_count": 22,
   "metadata": {},
   "outputs": [
    {
     "name": "stdout",
     "output_type": "stream",
     "text": [
      "The Best Accuracy:\n",
      "   penalty  acc_train   acc_test\n",
      "0     0.01  53.312721  51.394422\n"
     ]
    },
    {
     "data": {
      "image/png": "[encoded data removed]",
      "text/plain": [
       "<Figure size 432x288 with 1 Axes>"
      ]
     },
     "metadata": {
      "needs_background": "light"
     },
     "output_type": "display_data"
    }
   ],
   "source": [
    "plt.xlabel('Penalty')\n",
    "plt.ylabel('Accuracy (%)')\n",
    "\n",
    "plt.plot(data_plt['penalty'], data_plt['acc_test'], label='Test')\n",
    "plt.plot(data_plt['penalty'], data_plt['acc_train'], label='Train')\n",
    "plt.legend()\n",
    "print('The Best Accuracy:')\n",
    "print(data_plt[data_plt['acc_test'] == data_plt['acc_test'].max()])"
   ]
  },
  {
   "cell_type": "markdown",
   "metadata": {},
   "source": [
    "### SVM小結\n",
    "從以上幾種kernel function所畫出來的圖可以看到過了一定的penalty後，準確率就差不多不會有更大的變動了，後面呈現一條直線。<br />\n",
    "\n",
    "\n",
    "四種不同kernel function所得到的最高準確率分別為50.199203、49.800797、62.549801與51.394422，<br />\n",
    "其中以RBF函數中，penalty設為0.315102得到最高的準確率（62.549801）！<br />\n",
    "比目前為止其他方法足足高出10個百分點，讓人**痛哭流涕**。<br />\n",
    "\n",
    "在這個問題上，用較小的penalty（soft margin）可以得到較高的精準度，<br />\n",
    "就跟上面圖表畫出來一樣，可能是因為這個股市資料集並沒有一個明顯的分別，<br />\n",
    "所以給予較高的彈性當然就能把hyperplane畫得比較fit一點，<br />\n",
    "但也要考慮到這個資料是不是真的適合去預測，又或者只是在找一個overfitting的方法。\n",
    "\n",
    "---"
   ]
  },
  {
   "cell_type": "markdown",
   "metadata": {},
   "source": [
    "## Part 3: Neural Network"
   ]
  },
  {
   "cell_type": "code",
   "execution_count": 23,
   "metadata": {},
   "outputs": [
    {
     "name": "stderr",
     "output_type": "stream",
     "text": [
      "Using TensorFlow backend.\n"
     ]
    }
   ],
   "source": [
    "from keras import models, layers, optimizers, regularizers\n",
    "from sklearn import model_selection, preprocessing\n",
    "import tensorflow as tf\n",
    "from tqdm import tqdm"
   ]
  },
  {
   "cell_type": "markdown",
   "metadata": {},
   "source": [
    "在這邊我直接使用上面標準化過的train, test資料"
   ]
  },
  {
   "cell_type": "code",
   "execution_count": null,
   "metadata": {},
   "outputs": [
    {
     "name": "stdout",
     "output_type": "stream",
     "text": [
      "[[-1.55230001 -1.49441197 -1.50545617 -1.54093327  0.81362581]\n",
      " [-1.49834121 -1.50337884 -1.50153623 -1.49936521  1.82418053]\n",
      " [-1.49421907 -1.48843406 -1.48664047 -1.48340126  1.80842623]\n",
      " ...\n",
      " [ 2.1145693   2.11464105  2.10688987  2.1247189  -1.33171387]\n",
      " [ 2.12281357  2.12478289  2.11105738  2.13250518 -1.34874724]\n",
      " [ 2.12909984  2.09606828  2.12025892  2.11380162 -1.19609981]]\n",
      "[[ 2.11792884  2.14183026  2.1280369   2.13182543 -0.81568088]\n",
      " [ 2.14703114  2.17738855  2.16616345  2.16356794 -0.6350265 ]\n",
      " [ 2.19126169  2.1999191   2.19694528  2.20744305 -0.62749905]\n",
      " ...\n",
      " [ 1.45712936  1.67161568  1.65737622  1.44016418 -0.24928668]\n",
      " [ 1.62073705  1.71517201  1.7014033   1.54595882 -0.41608606]\n",
      " [ 1.73671343  1.70880244  1.76571091  1.70034565 -0.64232918]]\n"
     ]
    }
   ],
   "source": [
    "print(x_train_std)\n",
    "print(x_test_std)"
   ]
  },
  {
   "cell_type": "code",
   "execution_count": null,
   "metadata": {},
   "outputs": [],
   "source": [
    "hidden_units = 10\n",
    "activation = 'relu'\n",
    "l2 = 0.001\n",
    "learning_rate = 0.1\n",
    "epochs = 20\n",
    "batch_size = 32  "
   ]
  },
  {
   "cell_type": "code",
   "execution_count": null,
   "metadata": {},
   "outputs": [
    {
     "name": "stdout",
     "output_type": "stream",
     "text": [
      "WARNING:tensorflow:From /Users/tachungco/anaconda3/lib/python3.7/site-packages/tensorflow/python/framework/op_def_library.py:263: colocate_with (from tensorflow.python.framework.ops) is deprecated and will be removed in a future version.\n",
      "Instructions for updating:\n",
      "Colocations handled automatically by placer.\n"
     ]
    }
   ],
   "source": [
    "# create a sequential model\n",
    "model = models.Sequential()\n",
    "\n",
    "# add the hidden layer\n",
    "model.add(layers.Dense(input_dim=5,\n",
    "                       units=hidden_units, \n",
    "                       activation=activation))\n",
    "\n",
    "# add the output layer\n",
    "model.add(layers.Dense(input_dim=hidden_units,\n",
    "                       units=1,\n",
    "                       activation='sigmoid'))\n",
    "\n",
    "# define our loss function and optimizer\n",
    "model.compile(loss='binary_crossentropy',\n",
    "              # Adam is a kind of gradient descent\n",
    "              optimizer=optimizers.Adam(lr=learning_rate),\n",
    "              metrics=['accuracy'])"
   ]
  },
  {
   "cell_type": "markdown",
   "metadata": {},
   "source": [
    "### 設定權重\n",
    "訓練資料裡有1131筆結果為1，這雖然和0的數量差不多，不過還是設定一下。"
   ]
  },
  {
   "cell_type": "code",
   "execution_count": null,
   "metadata": {},
   "outputs": [],
   "source": [
    "class_weight = {\n",
    "    0: 1.,\n",
    "    1: 1131 / 2264\n",
    "}"
   ]
  },
  {
   "cell_type": "code",
   "execution_count": null,
   "metadata": {},
   "outputs": [
    {
     "name": "stdout",
     "output_type": "stream",
     "text": [
      "WARNING:tensorflow:From /Users/tachungco/anaconda3/lib/python3.7/site-packages/tensorflow/python/ops/math_ops.py:3066: to_int32 (from tensorflow.python.ops.math_ops) is deprecated and will be removed in a future version.\n",
      "Instructions for updating:\n",
      "Use tf.cast instead.\n",
      "Epoch 1/20\n"
     ]
    }
   ],
   "source": [
    "# train the parameters\n",
    "history = model.fit(x_train_std, y_train, epochs=epochs, batch_size=batch_size, class_weight=class_weight)\n",
    "\n",
    "# evaluate accuracy\n",
    "train_acc = model.evaluate(x_train_std, y_train, batch_size=batch_size)[1]\n",
    "test_acc = model.evaluate(x_test_std, y_test, batch_size=batch_size)[1]\n",
    "print('Training accuracy: %s' % train_acc)\n",
    "print('Testing accuracy: %s' % test_acc)\n",
    "\n",
    "losses = history.history['loss']\n",
    "plt.plot(range(len(losses)), losses, 'r')\n",
    "plt.show()"
   ]
  },
  {
   "cell_type": "code",
   "execution_count": null,
   "metadata": {},
   "outputs": [],
   "source": []
  }
 ],
 "metadata": {
  "kernelspec": {
   "display_name": "Python 3",
   "language": "python",
   "name": "python3"
  },
  "language_info": {
   "codemirror_mode": {
    "name": "ipython",
    "version": 3
   },
   "file_extension": ".py",
   "mimetype": "text/x-python",
   "name": "python",
   "nbconvert_exporter": "python",
   "pygments_lexer": "ipython3",
   "version": "3.7.3"
  }
 },
 "nbformat": 4,
 "nbformat_minor": 2
}
