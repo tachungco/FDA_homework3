{
 "cells": [
  {
   "cell_type": "markdown",
   "metadata": {},
   "source": [
    "# FDA_HOMEWORK 3\n",
    "by 交管108_張仲宇_H54046070"
   ]
  },
  {
   "cell_type": "markdown",
   "metadata": {},
   "source": [
    "## Part 1: Logistic Regression"
   ]
  },
  {
   "cell_type": "code",
   "execution_count": 1,
   "metadata": {},
   "outputs": [],
   "source": [
    "import matplotlib.pyplot as plt\n",
    "from sklearn import linear_model, metrics, model_selection\n",
    "import numpy as np\n",
    "import pandas as pd\n",
    "from sklearn.linear_model import LogisticRegression\n",
    "import random"
   ]
  },
  {
   "cell_type": "markdown",
   "metadata": {},
   "source": [
    "### 資料處理"
   ]
  },
  {
   "cell_type": "code",
   "execution_count": 2,
   "metadata": {},
   "outputs": [],
   "source": [
    "data = pd.read_csv('data.csv')"
   ]
  },
  {
   "cell_type": "code",
   "execution_count": 3,
   "metadata": {},
   "outputs": [
    {
     "data": {
      "text/html": [
       "<div>\n",
       "<style scoped>\n",
       "    .dataframe tbody tr th:only-of-type {\n",
       "        vertical-align: middle;\n",
       "    }\n",
       "\n",
       "    .dataframe tbody tr th {\n",
       "        vertical-align: top;\n",
       "    }\n",
       "\n",
       "    .dataframe thead th {\n",
       "        text-align: right;\n",
       "    }\n",
       "</style>\n",
       "<table border=\"1\" class=\"dataframe\">\n",
       "  <thead>\n",
       "    <tr style=\"text-align: right;\">\n",
       "      <th></th>\n",
       "      <th>Date</th>\n",
       "      <th>Open Price</th>\n",
       "      <th>Close Price</th>\n",
       "      <th>High Price</th>\n",
       "      <th>Low Price</th>\n",
       "      <th>Volume</th>\n",
       "    </tr>\n",
       "  </thead>\n",
       "  <tbody>\n",
       "    <tr>\n",
       "      <th>0</th>\n",
       "      <td>02-Jan-2009</td>\n",
       "      <td>902.99</td>\n",
       "      <td>931.80</td>\n",
       "      <td>934.73</td>\n",
       "      <td>899.35</td>\n",
       "      <td>4048270080</td>\n",
       "    </tr>\n",
       "    <tr>\n",
       "      <th>1</th>\n",
       "      <td>05-Jan-2009</td>\n",
       "      <td>929.17</td>\n",
       "      <td>927.45</td>\n",
       "      <td>936.63</td>\n",
       "      <td>919.53</td>\n",
       "      <td>5413910016</td>\n",
       "    </tr>\n",
       "    <tr>\n",
       "      <th>2</th>\n",
       "      <td>06-Jan-2009</td>\n",
       "      <td>931.17</td>\n",
       "      <td>934.70</td>\n",
       "      <td>943.85</td>\n",
       "      <td>927.28</td>\n",
       "      <td>5392620032</td>\n",
       "    </tr>\n",
       "    <tr>\n",
       "      <th>3</th>\n",
       "      <td>07-Jan-2009</td>\n",
       "      <td>927.45</td>\n",
       "      <td>906.65</td>\n",
       "      <td>927.45</td>\n",
       "      <td>902.37</td>\n",
       "      <td>4704940032</td>\n",
       "    </tr>\n",
       "    <tr>\n",
       "      <th>4</th>\n",
       "      <td>08-Jan-2009</td>\n",
       "      <td>905.73</td>\n",
       "      <td>909.73</td>\n",
       "      <td>910.00</td>\n",
       "      <td>896.81</td>\n",
       "      <td>4991549952</td>\n",
       "    </tr>\n",
       "  </tbody>\n",
       "</table>\n",
       "</div>"
      ],
      "text/plain": [
       "          Date  Open Price  Close Price  High Price  Low Price      Volume\n",
       "0  02-Jan-2009      902.99       931.80      934.73     899.35  4048270080\n",
       "1  05-Jan-2009      929.17       927.45      936.63     919.53  5413910016\n",
       "2  06-Jan-2009      931.17       934.70      943.85     927.28  5392620032\n",
       "3  07-Jan-2009      927.45       906.65      927.45     902.37  4704940032\n",
       "4  08-Jan-2009      905.73       909.73      910.00     896.81  4991549952"
      ]
     },
     "execution_count": 3,
     "metadata": {},
     "output_type": "execute_result"
    }
   ],
   "source": [
    "data.head()"
   ]
  },
  {
   "cell_type": "markdown",
   "metadata": {},
   "source": [
    "---\n",
    "原始資料檔內並沒有交易量增減的欄位，所以接下來必須先判斷增減，\n",
    "\n",
    "因為是要預測的關係，所以我們想知道的是用第n天的資料，可不可以判斷第n+1天的增減，\n",
    "\n",
    "所以第n天的增減一欄顯示的是第n+1天與第n天比起來是增或減。\n",
    "\n",
    "---"
   ]
  },
  {
   "cell_type": "code",
   "execution_count": 4,
   "metadata": {},
   "outputs": [],
   "source": [
    "for i in range(len(data)-1):\n",
    "    if data.loc[i, 'Volume'] < data.loc[i+1, 'Volume']:\n",
    "        data.loc[i, 'Movement'] = 1\n",
    "    else:\n",
    "        data.loc[i, 'Movement'] = 0\n",
    "data = data.drop(len(data)-1)    # 去掉最後一row"
   ]
  },
  {
   "cell_type": "code",
   "execution_count": 5,
   "metadata": {},
   "outputs": [
    {
     "data": {
      "text/html": [
       "<div>\n",
       "<style scoped>\n",
       "    .dataframe tbody tr th:only-of-type {\n",
       "        vertical-align: middle;\n",
       "    }\n",
       "\n",
       "    .dataframe tbody tr th {\n",
       "        vertical-align: top;\n",
       "    }\n",
       "\n",
       "    .dataframe thead th {\n",
       "        text-align: right;\n",
       "    }\n",
       "</style>\n",
       "<table border=\"1\" class=\"dataframe\">\n",
       "  <thead>\n",
       "    <tr style=\"text-align: right;\">\n",
       "      <th></th>\n",
       "      <th>Date</th>\n",
       "      <th>Open Price</th>\n",
       "      <th>Close Price</th>\n",
       "      <th>High Price</th>\n",
       "      <th>Low Price</th>\n",
       "      <th>Volume</th>\n",
       "      <th>Movement</th>\n",
       "    </tr>\n",
       "  </thead>\n",
       "  <tbody>\n",
       "    <tr>\n",
       "      <th>2510</th>\n",
       "      <td>21-Dec-2018</td>\n",
       "      <td>2465.38</td>\n",
       "      <td>2416.62</td>\n",
       "      <td>2504.41</td>\n",
       "      <td>2408.55</td>\n",
       "      <td>4560164352</td>\n",
       "      <td>0.0</td>\n",
       "    </tr>\n",
       "    <tr>\n",
       "      <th>2511</th>\n",
       "      <td>24-Dec-2018</td>\n",
       "      <td>2400.56</td>\n",
       "      <td>2351.10</td>\n",
       "      <td>2410.34</td>\n",
       "      <td>2351.10</td>\n",
       "      <td>1662758784</td>\n",
       "      <td>1.0</td>\n",
       "    </tr>\n",
       "    <tr>\n",
       "      <th>2512</th>\n",
       "      <td>26-Dec-2018</td>\n",
       "      <td>2363.12</td>\n",
       "      <td>2467.70</td>\n",
       "      <td>2467.76</td>\n",
       "      <td>2346.58</td>\n",
       "      <td>2611875072</td>\n",
       "      <td>0.0</td>\n",
       "    </tr>\n",
       "    <tr>\n",
       "      <th>2513</th>\n",
       "      <td>27-Dec-2018</td>\n",
       "      <td>2442.50</td>\n",
       "      <td>2488.83</td>\n",
       "      <td>2489.10</td>\n",
       "      <td>2397.94</td>\n",
       "      <td>2386466304</td>\n",
       "      <td>0.0</td>\n",
       "    </tr>\n",
       "    <tr>\n",
       "      <th>2514</th>\n",
       "      <td>28-Dec-2018</td>\n",
       "      <td>2498.77</td>\n",
       "      <td>2485.74</td>\n",
       "      <td>2520.27</td>\n",
       "      <td>2472.89</td>\n",
       "      <td>2080726656</td>\n",
       "      <td>0.0</td>\n",
       "    </tr>\n",
       "  </tbody>\n",
       "</table>\n",
       "</div>"
      ],
      "text/plain": [
       "             Date  Open Price  Close Price  High Price  Low Price      Volume  \\\n",
       "2510  21-Dec-2018     2465.38      2416.62     2504.41    2408.55  4560164352   \n",
       "2511  24-Dec-2018     2400.56      2351.10     2410.34    2351.10  1662758784   \n",
       "2512  26-Dec-2018     2363.12      2467.70     2467.76    2346.58  2611875072   \n",
       "2513  27-Dec-2018     2442.50      2488.83     2489.10    2397.94  2386466304   \n",
       "2514  28-Dec-2018     2498.77      2485.74     2520.27    2472.89  2080726656   \n",
       "\n",
       "      Movement  \n",
       "2510       0.0  \n",
       "2511       1.0  \n",
       "2512       0.0  \n",
       "2513       0.0  \n",
       "2514       0.0  "
      ]
     },
     "execution_count": 5,
     "metadata": {},
     "output_type": "execute_result"
    }
   ],
   "source": [
    "data.tail()"
   ]
  },
  {
   "cell_type": "markdown",
   "metadata": {},
   "source": [
    "在Movement欄位中，1代表下一天的交易量會增加，0代表會減少。\n",
    "因為最後一天不會有值，所以我把他去掉。\n",
    "\n",
    "---"
   ]
  },
  {
   "cell_type": "markdown",
   "metadata": {},
   "source": [
    "### 切割檔案\n",
    "接下來將檔案依照日期分成train, test，2018年以後的為test。\n",
    "\n",
    "然後分別切割成x, y。"
   ]
  },
  {
   "cell_type": "code",
   "execution_count": 6,
   "metadata": {},
   "outputs": [],
   "source": [
    "data['Date']=pd.to_datetime(data['Date']) # 轉為日期格式\n",
    "train = data[data['Date'] <= pd.datetime(2017,12,31)].drop(['Date'], axis=1) # 日期在2018前的設為train\n",
    "test = data[data['Date'] > pd.datetime(2017,12,31)].drop(['Date'], axis=1)   # 日期在2018後的設為test"
   ]
  },
  {
   "cell_type": "code",
   "execution_count": 7,
   "metadata": {},
   "outputs": [],
   "source": [
    "x_train = train.loc[:, train.columns != 'Movement']\n",
    "y_train = train['Movement']\n",
    "x_test = test.loc[:, test.columns != 'Movement']\n",
    "y_test = test['Movement']"
   ]
  },
  {
   "cell_type": "markdown",
   "metadata": {},
   "source": [
    "### 視覺化檢視變數與交易量增減的關係"
   ]
  },
  {
   "cell_type": "code",
   "execution_count": 8,
   "metadata": {},
   "outputs": [],
   "source": [
    "def plot_feature(data, feature_name):\n",
    "    plt.figure(figsize=(10, 3))\n",
    "    plt.scatter(data[feature_name], data['Movement'], alpha=0.2)\n",
    "    plt.xlabel(feature_name)\n",
    "    plt.ylabel('Movement')\n",
    "    plt.show()"
   ]
  },
  {
   "cell_type": "code",
   "execution_count": 9,
   "metadata": {},
   "outputs": [
    {
     "data": {
      "image/png": "[encoded data removed]",
      "text/plain": [
       "<Figure size 720x216 with 1 Axes>"
      ]
     },
     "metadata": {
      "needs_background": "light"
     },
     "output_type": "display_data"
    },
    {
     "data": {
      "image/png": "[encoded data removed]",
      "text/plain": [
       "<Figure size 720x216 with 1 Axes>"
      ]
     },
     "metadata": {
      "needs_background": "light"
     },
     "output_type": "display_data"
    },
    {
     "data": {
      "image/png": "[encoded data removed]",
      "text/plain": [
       "<Figure size 720x216 with 1 Axes>"
      ]
     },
     "metadata": {
      "needs_background": "light"
     },
     "output_type": "display_data"
    },
    {
     "data": {
      "image/png": "[encoded data removed]",
      "text/plain": [
       "<Figure size 720x216 with 1 Axes>"
      ]
     },
     "metadata": {
      "needs_background": "light"
     },
     "output_type": "display_data"
    },
    {
     "data": {
      "image/png": "[encoded data removed]",
      "text/plain": [
       "<Figure size 720x216 with 1 Axes>"
      ]
     },
     "metadata": {
      "needs_background": "light"
     },
     "output_type": "display_data"
    }
   ],
   "source": [
    "names = ['Open Price', 'Close Price', 'High Price', 'Low Price', 'Volume']\n",
    "plot_feature(data, 'Open Price')\n",
    "plot_feature(data, 'Close Price')\n",
    "plot_feature(data, 'High Price')\n",
    "plot_feature(data, 'Low Price')\n",
    "plot_feature(data, 'Volume')"
   ]
  },
  {
   "cell_type": "markdown",
   "metadata": {},
   "source": [
    "從上面幾張圖看起來，並沒有呈現明顯的分類關係，不過為了做作業，還是得繼續使用分類器來分類QQ\n",
    "\n",
    "---\n",
    "接下來將資料套入羅吉斯迴歸中："
   ]
  },
  {
   "cell_type": "code",
   "execution_count": 10,
   "metadata": {},
   "outputs": [],
   "source": [
    "def evaluate(model, x_train, y_train, x_test, y_test):\n",
    "    train_preds = model.predict(x_train)\n",
    "    test_preds = model.predict(x_test)\n",
    "    train_acc = metrics.accuracy_score(y_train, train_preds)\n",
    "    test_acc = metrics.accuracy_score(y_test, test_preds)\n",
    "    print('Train accuracy: %s' % train_acc)\n",
    "    print('Test accuracy: %s' % test_acc)"
   ]
  },
  {
   "cell_type": "code",
   "execution_count": 11,
   "metadata": {},
   "outputs": [
    {
     "name": "stdout",
     "output_type": "stream",
     "text": [
      "Train accuracy: 0.5004416961130742\n",
      "Test accuracy: 0.4860557768924303\n"
     ]
    },
    {
     "name": "stderr",
     "output_type": "stream",
     "text": [
      "/Library/Frameworks/Python.framework/Versions/3.6/lib/python3.6/site-packages/sklearn/linear_model/logistic.py:433: FutureWarning: Default solver will be changed to 'lbfgs' in 0.22. Specify a solver to silence this warning.\n",
      "  FutureWarning)\n"
     ]
    }
   ],
   "source": [
    "model = LogisticRegression().fit(x_train, y_train)\n",
    "evaluate(model, x_train, y_train, x_test, y_test)"
   ]
  },
  {
   "cell_type": "markdown",
   "metadata": {},
   "source": [
    "### Logistic Regression小結\n",
    "看起來準確率很低，甚至比隨便猜（機率=0.5）還要低...<br />\n",
    "\n",
    "從上面畫出來的圖散佈得這麼平均就可以知道這種2分的切割不OK，<br />\n",
    "所以接下來使用其他方法看看能不能提升準確率。\n",
    "\n",
    "---"
   ]
  },
  {
   "cell_type": "markdown",
   "metadata": {},
   "source": [
    "## Part 2: SVM\n",
    "---\n",
    "### 資料標準化\n",
    "因為上面已經將資料切分成train, test了，所以接下來我先進行資料的標準化。"
   ]
  },
  {
   "cell_type": "code",
   "execution_count": 12,
   "metadata": {},
   "outputs": [
    {
     "name": "stderr",
     "output_type": "stream",
     "text": [
      "/Library/Frameworks/Python.framework/Versions/3.6/lib/python3.6/site-packages/sklearn/preprocessing/data.py:645: DataConversionWarning: Data with input dtype int64, float64 were all converted to float64 by StandardScaler.\n",
      "  return self.partial_fit(X, y)\n",
      "/Library/Frameworks/Python.framework/Versions/3.6/lib/python3.6/site-packages/ipykernel_launcher.py:6: DataConversionWarning: Data with input dtype int64, float64 were all converted to float64 by StandardScaler.\n",
      "  \n",
      "/Library/Frameworks/Python.framework/Versions/3.6/lib/python3.6/site-packages/ipykernel_launcher.py:7: DataConversionWarning: Data with input dtype int64, float64 were all converted to float64 by StandardScaler.\n",
      "  import sys\n"
     ]
    }
   ],
   "source": [
    "from sklearn.preprocessing import StandardScaler\n",
    "\n",
    "scaler = StandardScaler()\n",
    "scaler.fit(x_train)\n",
    "\n",
    "x_train_std = scaler.transform(x_train)\n",
    "x_test_std = scaler.transform(x_test)"
   ]
  },
  {
   "cell_type": "markdown",
   "metadata": {},
   "source": [
    "### 套入SVC"
   ]
  },
  {
   "cell_type": "code",
   "execution_count": 13,
   "metadata": {},
   "outputs": [],
   "source": [
    "from sklearn.svm import SVC\n",
    "from sklearn.metrics import accuracy_score"
   ]
  },
  {
   "cell_type": "code",
   "execution_count": 14,
   "metadata": {},
   "outputs": [
    {
     "name": "stdout",
     "output_type": "stream",
     "text": [
      "Penalty = 0.05, Train accuracy = 55.74 %, Test accuracy = 49.40 %\n"
     ]
    }
   ],
   "source": [
    "penalty = 0.05\n",
    "\n",
    "svm = SVC(C=penalty, kernel=\"linear\")\n",
    "svm.fit(x_train_std, y_train)\n",
    "\n",
    "acc_train = accuracy_score(y_train, svm.predict(x_train_std)) * 100\n",
    "acc_test = accuracy_score(y_test, svm.predict(x_test_std)) * 100\n",
    "print(\"Penalty = %.2f, Train accuracy = %.2f %%, Test accuracy = %.2f %%\" % (penalty, acc_train, acc_test))"
   ]
  },
  {
   "cell_type": "markdown",
   "metadata": {},
   "source": [
    "---\n",
    "可以看到，精準度還是比用猜的還要低。\n",
    "但下來還是要努力改一些參數看看是否能夠提升精準度。\n",
    "\n",
    "而視覺化的部分因為維度大於3的關係，所以這邊我就偷懶先省略。"
   ]
  },
  {
   "cell_type": "markdown",
   "metadata": {},
   "source": [
    "再來我使用迴圈，測試從0.01到3之間哪個penalty與kernel function的準確率最高，將他們畫成圖且將最高準確度的penalty印出來。\n",
    "\n",
    "---\n",
    "\n",
    "### 不同Penalty與Kernel Function測試\n",
    "\n",
    "### kernel=\"linear\""
   ]
  },
  {
   "cell_type": "code",
   "execution_count": 15,
   "metadata": {},
   "outputs": [],
   "source": [
    "data_plt = pd.DataFrame(columns=('penalty', 'acc_train', 'acc_test'))\n",
    "count = 0\n",
    "for i in np.linspace(start=0.01, stop=3, num=50):\n",
    "    penalty = i\n",
    "    \n",
    "    svm = SVC(C=penalty, kernel=\"linear\")\n",
    "    svm.fit(x_train_std, y_train)\n",
    "\n",
    "    acc_train = accuracy_score(y_train, svm.predict(x_train_std)) * 100\n",
    "    acc_test = accuracy_score(y_test, svm.predict(x_test_std)) * 100\n",
    "    data_plt.loc[count] = [penalty, acc_train, acc_test]\n",
    "    count += 1"
   ]
  },
  {
   "cell_type": "code",
   "execution_count": 16,
   "metadata": {},
   "outputs": [
    {
     "name": "stdout",
     "output_type": "stream",
     "text": [
      "The Best Accuracy:\n",
      "   penalty  acc_train   acc_test\n",
      "0     0.01  55.388693  50.199203\n"
     ]
    },
    {
     "data": {
      "image/png": "[encoded data removed]",
      "text/plain": [
       "<Figure size 432x288 with 1 Axes>"
      ]
     },
     "metadata": {
      "needs_background": "light"
     },
     "output_type": "display_data"
    }
   ],
   "source": [
    "plt.xlabel('Penalty')\n",
    "plt.ylabel('Accuracy (%)')\n",
    "\n",
    "plt.plot(data_plt['penalty'], data_plt['acc_test'], label='Test')\n",
    "plt.plot(data_plt['penalty'], data_plt['acc_train'], label='Train')\n",
    "plt.legend()\n",
    "print('The Best Accuracy:')\n",
    "print(data_plt[data_plt['acc_test'] == data_plt['acc_test'].max()])"
   ]
  },
  {
   "cell_type": "markdown",
   "metadata": {},
   "source": [
    "### kernel=\"poly\""
   ]
  },
  {
   "cell_type": "code",
   "execution_count": 17,
   "metadata": {},
   "outputs": [],
   "source": [
    "data_plt = pd.DataFrame(columns=('penalty', 'acc_train', 'acc_test'))\n",
    "count = 0\n",
    "for i in np.linspace(start=0.01, stop=3, num=50):\n",
    "    penalty = i\n",
    "    \n",
    "    svm = SVC(C=penalty, kernel=\"poly\")\n",
    "    svm.fit(x_train_std, y_train)\n",
    "\n",
    "    acc_train = accuracy_score(y_train, svm.predict(x_train_std)) * 100\n",
    "    acc_test = accuracy_score(y_test, svm.predict(x_test_std)) * 100\n",
    "    data_plt.loc[count] = [penalty, acc_train, acc_test]\n",
    "    count += 1"
   ]
  },
  {
   "cell_type": "code",
   "execution_count": 18,
   "metadata": {},
   "outputs": [
    {
     "name": "stdout",
     "output_type": "stream",
     "text": [
      "The Best Accuracy:\n",
      "     penalty  acc_train   acc_test\n",
      "1   0.071020  52.826855  49.800797\n",
      "2   0.132041  52.826855  49.800797\n",
      "3   0.193061  53.003534  49.800797\n",
      "4   0.254082  53.136042  49.800797\n",
      "5   0.315102  53.047703  49.800797\n",
      "6   0.376122  53.268551  49.800797\n",
      "7   0.437143  53.401060  49.800797\n",
      "8   0.498163  53.533569  49.800797\n",
      "9   0.559184  53.577739  49.800797\n",
      "10  0.620204  53.533569  49.800797\n",
      "11  0.681224  53.621908  49.800797\n",
      "12  0.742245  53.666078  49.800797\n",
      "13  0.803265  53.710247  49.800797\n",
      "14  0.864286  53.931095  49.800797\n",
      "15  0.925306  53.710247  49.800797\n",
      "16  0.986327  54.107774  49.800797\n",
      "17  1.047347  54.063604  49.800797\n",
      "18  1.108367  54.019435  49.800797\n",
      "19  1.169388  53.975265  49.800797\n",
      "20  1.230408  53.975265  49.800797\n",
      "21  1.291429  53.975265  49.800797\n",
      "22  1.352449  53.931095  49.800797\n",
      "23  1.413469  53.931095  49.800797\n",
      "24  1.474490  54.019435  49.800797\n",
      "25  1.535510  54.019435  49.800797\n",
      "26  1.596531  54.107774  49.800797\n",
      "27  1.657551  54.151943  49.800797\n",
      "28  1.718571  54.151943  49.800797\n",
      "29  1.779592  54.151943  49.800797\n",
      "30  1.840612  54.196113  49.800797\n",
      "31  1.901633  54.240283  49.800797\n",
      "32  1.962653  54.196113  49.800797\n",
      "33  2.023673  54.240283  49.800797\n",
      "34  2.084694  54.240283  49.800797\n",
      "35  2.145714  54.240283  49.800797\n",
      "36  2.206735  54.328622  49.800797\n",
      "37  2.267755  54.372792  49.800797\n",
      "38  2.328776  54.328622  49.800797\n",
      "39  2.389796  54.416961  49.800797\n",
      "40  2.450816  54.328622  49.800797\n",
      "41  2.511837  54.328622  49.800797\n",
      "42  2.572857  54.461131  49.800797\n",
      "43  2.633878  54.328622  49.800797\n",
      "44  2.694898  54.328622  49.800797\n",
      "45  2.755918  54.284452  49.800797\n",
      "46  2.816939  54.284452  49.800797\n",
      "47  2.877959  54.284452  49.800797\n",
      "48  2.938980  54.284452  49.800797\n",
      "49  3.000000  54.196113  49.800797\n"
     ]
    },
    {
     "data": {
      "image/png": "[encoded data removed]",
      "text/plain": [
       "<Figure size 432x288 with 1 Axes>"
      ]
     },
     "metadata": {
      "needs_background": "light"
     },
     "output_type": "display_data"
    }
   ],
   "source": [
    "plt.xlabel('Penalty')\n",
    "plt.ylabel('Accuracy (%)')\n",
    "\n",
    "plt.plot(data_plt['penalty'], data_plt['acc_test'], label='Test')\n",
    "plt.plot(data_plt['penalty'], data_plt['acc_train'], label='Train')\n",
    "plt.legend()\n",
    "print('The Best Accuracy:')\n",
    "print(data_plt[data_plt['acc_test'] == data_plt['acc_test'].max()])"
   ]
  },
  {
   "cell_type": "markdown",
   "metadata": {},
   "source": [
    "### kernel=\"rbf\""
   ]
  },
  {
   "cell_type": "code",
   "execution_count": 19,
   "metadata": {},
   "outputs": [],
   "source": [
    "data_plt = pd.DataFrame(columns=('penalty', 'acc_train', 'acc_test'))\n",
    "count = 0\n",
    "for i in np.linspace(start=0.01, stop=3, num=50):\n",
    "    penalty = i\n",
    "    \n",
    "    svm = SVC(C=penalty, kernel=\"rbf\")\n",
    "    svm.fit(x_train_std, y_train)\n",
    "\n",
    "    acc_train = accuracy_score(y_train, svm.predict(x_train_std)) * 100\n",
    "    acc_test = accuracy_score(y_test, svm.predict(x_test_std)) * 100\n",
    "    data_plt.loc[count] = [penalty, acc_train, acc_test]\n",
    "    count += 1"
   ]
  },
  {
   "cell_type": "code",
   "execution_count": 20,
   "metadata": {},
   "outputs": [
    {
     "name": "stdout",
     "output_type": "stream",
     "text": [
      "The Best Accuracy:\n",
      "    penalty  acc_train   acc_test\n",
      "5  0.315102   63.69258  62.549801\n"
     ]
    },
    {
     "data": {
      "image/png": "[encoded data removed]",
      "text/plain": [
       "<Figure size 432x288 with 1 Axes>"
      ]
     },
     "metadata": {
      "needs_background": "light"
     },
     "output_type": "display_data"
    }
   ],
   "source": [
    "plt.xlabel('Penalty')\n",
    "plt.ylabel('Accuracy (%)')\n",
    "\n",
    "plt.plot(data_plt['penalty'], data_plt['acc_test'], label='Test')\n",
    "plt.plot(data_plt['penalty'], data_plt['acc_train'], label='Train')\n",
    "plt.legend()\n",
    "print('The Best Accuracy:')\n",
    "print(data_plt[data_plt['acc_test'] == data_plt['acc_test'].max()])"
   ]
  },
  {
   "cell_type": "markdown",
   "metadata": {},
   "source": [
    "### kernel=\"sigmoid\""
   ]
  },
  {
   "cell_type": "code",
   "execution_count": 21,
   "metadata": {},
   "outputs": [],
   "source": [
    "data_plt = pd.DataFrame(columns=('penalty', 'acc_train', 'acc_test'))\n",
    "count = 0\n",
    "for i in np.linspace(start=0.01, stop=3, num=50):\n",
    "    penalty = i\n",
    "    \n",
    "    svm = SVC(C=penalty, kernel=\"sigmoid\")\n",
    "    svm.fit(x_train_std, y_train)\n",
    "\n",
    "    acc_train = accuracy_score(y_train, svm.predict(x_train_std)) * 100\n",
    "    acc_test = accuracy_score(y_test, svm.predict(x_test_std)) * 100\n",
    "    data_plt.loc[count] = [penalty, acc_train, acc_test]\n",
    "    count += 1"
   ]
  },
  {
   "cell_type": "code",
   "execution_count": 22,
   "metadata": {},
   "outputs": [
    {
     "name": "stdout",
     "output_type": "stream",
     "text": [
      "The Best Accuracy:\n",
      "   penalty  acc_train   acc_test\n",
      "0     0.01  53.312721  51.394422\n"
     ]
    },
    {
     "data": {
      "image/png": "[encoded data removed]",
      "text/plain": [
       "<Figure size 432x288 with 1 Axes>"
      ]
     },
     "metadata": {
      "needs_background": "light"
     },
     "output_type": "display_data"
    }
   ],
   "source": [
    "plt.xlabel('Penalty')\n",
    "plt.ylabel('Accuracy (%)')\n",
    "\n",
    "plt.plot(data_plt['penalty'], data_plt['acc_test'], label='Test')\n",
    "plt.plot(data_plt['penalty'], data_plt['acc_train'], label='Train')\n",
    "plt.legend()\n",
    "print('The Best Accuracy:')\n",
    "print(data_plt[data_plt['acc_test'] == data_plt['acc_test'].max()])"
   ]
  },
  {
   "cell_type": "markdown",
   "metadata": {},
   "source": [
    "### SVM小結\n",
    "從以上幾種kernel function所畫出來的圖可以看到過了一定的penalty後，準確率就差不多不會有更大的變動了，後面呈現一條直線。<br />\n",
    "\n",
    "\n",
    "四種不同kernel function所得到的最高準確率分別為50.199203、49.800797、62.549801與51.394422，<br />\n",
    "其中以RBF函數中，penalty設為0.315102得到最高的準確率（62.549801）！<br />\n",
    "比目前為止其他方法足足高出10個百分點，讓人**痛哭流涕**。<br />\n",
    "\n",
    "在這個問題上，用較小的penalty（soft margin）可以得到較高的精準度，<br />\n",
    "就跟上面圖表畫出來一樣，可能是因為這個股市資料集並沒有一個明顯的分別，<br />\n",
    "所以給予較高的彈性當然就能把hyperplane畫得比較fit一點，<br />\n",
    "但也要考慮到這個資料是不是真的適合去預測，又或者只是在找一個overfitting的方法。\n",
    "\n",
    "---"
   ]
  },
  {
   "cell_type": "markdown",
   "metadata": {},
   "source": [
    "## Part 3: Neural Network"
   ]
  },
  {
   "cell_type": "code",
   "execution_count": 23,
   "metadata": {},
   "outputs": [
    {
     "name": "stderr",
     "output_type": "stream",
     "text": [
      "Using TensorFlow backend.\n"
     ]
    }
   ],
   "source": [
    "from keras import models, layers, optimizers, regularizers\n",
    "from sklearn import model_selection, preprocessing\n",
    "import tensorflow as tf\n",
    "from tqdm import tqdm"
   ]
  },
  {
   "cell_type": "markdown",
   "metadata": {},
   "source": [
    "在這邊我直接使用上面標準化過的train, test資料， <br />\n",
    "這樣子係數才不會受到過大的值影響。"
   ]
  },
  {
   "cell_type": "code",
   "execution_count": 24,
   "metadata": {
    "scrolled": false
   },
   "outputs": [
    {
     "name": "stdout",
     "output_type": "stream",
     "text": [
      "[[-1.55230001 -1.49441197 -1.50545617 -1.54093327  0.81362581]\n",
      " [-1.49834121 -1.50337884 -1.50153623 -1.49936521  1.82418053]\n",
      " [-1.49421907 -1.48843406 -1.48664047 -1.48340126  1.80842623]\n",
      " ...\n",
      " [ 2.1145693   2.11464105  2.10688987  2.1247189  -1.33171387]\n",
      " [ 2.12281357  2.12478289  2.11105738  2.13250518 -1.34874724]\n",
      " [ 2.12909984  2.09606828  2.12025892  2.11380162 -1.19609981]]\n",
      "[[ 2.11792884  2.14183026  2.1280369   2.13182543 -0.81568088]\n",
      " [ 2.14703114  2.17738855  2.16616345  2.16356794 -0.6350265 ]\n",
      " [ 2.19126169  2.1999191   2.19694528  2.20744305 -0.62749905]\n",
      " ...\n",
      " [ 1.45712936  1.67161568  1.65737622  1.44016418 -0.24928668]\n",
      " [ 1.62073705  1.71517201  1.7014033   1.54595882 -0.41608606]\n",
      " [ 1.73671343  1.70880244  1.76571091  1.70034565 -0.64232918]]\n"
     ]
    }
   ],
   "source": [
    "print(x_train_std)\n",
    "print(x_test_std)"
   ]
  },
  {
   "cell_type": "markdown",
   "metadata": {},
   "source": [
    "### 設定神經網路基本架構\n",
    "這邊先用和助教的教學一樣的設定跑跑看，感謝助教。"
   ]
  },
  {
   "cell_type": "code",
   "execution_count": 25,
   "metadata": {},
   "outputs": [],
   "source": [
    "hidden_units = 10\n",
    "activation = 'relu'\n",
    "l2 = 0.001\n",
    "learning_rate = 0.1\n",
    "epochs = 20\n",
    "batch_size = 32  "
   ]
  },
  {
   "cell_type": "code",
   "execution_count": 26,
   "metadata": {},
   "outputs": [
    {
     "name": "stdout",
     "output_type": "stream",
     "text": [
      "WARNING:tensorflow:From /Library/Frameworks/Python.framework/Versions/3.6/lib/python3.6/site-packages/tensorflow/python/framework/op_def_library.py:263: colocate_with (from tensorflow.python.framework.ops) is deprecated and will be removed in a future version.\n",
      "Instructions for updating:\n",
      "Colocations handled automatically by placer.\n"
     ]
    }
   ],
   "source": [
    "# create a sequential model\n",
    "model = models.Sequential()\n",
    "\n",
    "# add the hidden layer\n",
    "model.add(layers.Dense(input_dim=5,\n",
    "                       units=hidden_units, \n",
    "                       activation=activation))\n",
    "\n",
    "# add the output layer\n",
    "model.add(layers.Dense(input_dim=hidden_units,\n",
    "                       units=1,\n",
    "                       activation='sigmoid'))\n",
    "\n",
    "# define our loss function and optimizer\n",
    "model.compile(loss='binary_crossentropy',\n",
    "              # Adam is a kind of gradient descent\n",
    "              optimizer=optimizers.Adam(lr=learning_rate),\n",
    "              metrics=['accuracy'])"
   ]
  },
  {
   "cell_type": "markdown",
   "metadata": {},
   "source": [
    "### 設定權重\n",
    "訓練資料裡有1131筆結果為1，這雖然和0的數量差不多，不過還是設定一下。"
   ]
  },
  {
   "cell_type": "code",
   "execution_count": 27,
   "metadata": {},
   "outputs": [],
   "source": [
    "class_weight = {\n",
    "    0: 1.,\n",
    "    1: 1131 / 2264\n",
    "}"
   ]
  },
  {
   "cell_type": "code",
   "execution_count": 28,
   "metadata": {},
   "outputs": [
    {
     "name": "stdout",
     "output_type": "stream",
     "text": [
      "WARNING:tensorflow:From /Library/Frameworks/Python.framework/Versions/3.6/lib/python3.6/site-packages/tensorflow/python/ops/math_ops.py:3066: to_int32 (from tensorflow.python.ops.math_ops) is deprecated and will be removed in a future version.\n",
      "Instructions for updating:\n",
      "Use tf.cast instead.\n",
      "Epoch 1/20\n",
      "2264/2264 [==============================] - 0s 208us/step - loss: 0.4776 - acc: 0.5269\n",
      "Epoch 2/20\n",
      "2264/2264 [==============================] - 0s 50us/step - loss: 0.4683 - acc: 0.5278\n",
      "Epoch 3/20\n",
      "2264/2264 [==============================] - 0s 45us/step - loss: 0.4597 - acc: 0.5402\n",
      "Epoch 4/20\n",
      "2264/2264 [==============================] - 0s 48us/step - loss: 0.4698 - acc: 0.5380\n",
      "Epoch 5/20\n",
      "2264/2264 [==============================] - 0s 62us/step - loss: 0.4586 - acc: 0.5451\n",
      "Epoch 6/20\n",
      "2264/2264 [==============================] - 0s 69us/step - loss: 0.4677 - acc: 0.5402\n",
      "Epoch 7/20\n",
      "2264/2264 [==============================] - 0s 50us/step - loss: 0.4643 - acc: 0.5424\n",
      "Epoch 8/20\n",
      "2264/2264 [==============================] - 0s 52us/step - loss: 0.4650 - acc: 0.5349\n",
      "Epoch 9/20\n",
      "2264/2264 [==============================] - 0s 50us/step - loss: 0.4721 - acc: 0.5243\n",
      "Epoch 10/20\n",
      "2264/2264 [==============================] - 0s 56us/step - loss: 0.4642 - acc: 0.5305\n",
      "Epoch 11/20\n",
      "2264/2264 [==============================] - 0s 54us/step - loss: 0.4636 - acc: 0.5398\n",
      "Epoch 12/20\n",
      "2264/2264 [==============================] - 0s 48us/step - loss: 0.4571 - acc: 0.5411\n",
      "Epoch 13/20\n",
      "2264/2264 [==============================] - 0s 52us/step - loss: 0.4605 - acc: 0.5477\n",
      "Epoch 14/20\n",
      "2264/2264 [==============================] - 0s 70us/step - loss: 0.4632 - acc: 0.5314\n",
      "Epoch 15/20\n",
      "2264/2264 [==============================] - 0s 56us/step - loss: 0.4600 - acc: 0.5380\n",
      "Epoch 16/20\n",
      "2264/2264 [==============================] - 0s 63us/step - loss: 0.4666 - acc: 0.5327\n",
      "Epoch 17/20\n",
      "2264/2264 [==============================] - 0s 52us/step - loss: 0.4586 - acc: 0.5437: 0s - loss: 0.4668 - acc: 0.52\n",
      "Epoch 18/20\n",
      "2264/2264 [==============================] - 0s 58us/step - loss: 0.4619 - acc: 0.5415\n",
      "Epoch 19/20\n",
      "2264/2264 [==============================] - 0s 53us/step - loss: 0.4596 - acc: 0.5420\n",
      "Epoch 20/20\n",
      "2264/2264 [==============================] - 0s 48us/step - loss: 0.4596 - acc: 0.5349\n",
      "2264/2264 [==============================] - 0s 33us/step\n",
      "251/251 [==============================] - 0s 34us/step\n",
      "Training accuracy: 0.5375441698219245\n",
      "Testing accuracy: 0.49800796860242746\n"
     ]
    },
    {
     "data": {
      "image/png": "[encoded data removed]",
      "text/plain": [
       "<Figure size 432x288 with 1 Axes>"
      ]
     },
     "metadata": {
      "needs_background": "light"
     },
     "output_type": "display_data"
    }
   ],
   "source": [
    "# train the parameters\n",
    "history = model.fit(x_train_std, y_train, epochs=epochs, batch_size=batch_size, class_weight=class_weight)\n",
    "\n",
    "# evaluate accuracy\n",
    "train_acc = model.evaluate(x_train_std, y_train, batch_size=batch_size)[1]\n",
    "test_acc = model.evaluate(x_test_std, y_test, batch_size=batch_size)[1]\n",
    "print('Training accuracy: %s' % train_acc)\n",
    "print('Testing accuracy: %s' % test_acc)\n",
    "\n",
    "losses = history.history['loss']\n",
    "plt.plot(range(len(losses)), losses, 'r')\n",
    "plt.show()"
   ]
  },
  {
   "cell_type": "markdown",
   "metadata": {},
   "source": [
    "上面是訓練一次的結果，雖然訓練集的準確率有0.54，但看訓練集是不準的，因為我們就是用訓練集去訓練出來的。<br />\n",
    "測試集的準確率只有0.48，比0.5還要低，跟上面使用羅吉斯迴歸和SVM的初步結果差不多慘。\n",
    "\n",
    "---\n",
    "因為只跑一次所得結果會有變異的問題，所以最好是多跑幾次，然後取平均值， <br />\n",
    "接下來就多跑幾次，取平均準確率，比較能夠讓人信服。"
   ]
  },
  {
   "cell_type": "code",
   "execution_count": 29,
   "metadata": {},
   "outputs": [],
   "source": [
    "def train_and_evaluate(model, x_train, y_train, x_test, y_test, n=20):\n",
    "    train_accs = []\n",
    "    test_accs = []\n",
    "    with tqdm(total=n) as progress_bar:\n",
    "        for _ in range(n):\n",
    "            model.fit(\n",
    "                x_train, \n",
    "                y_train, \n",
    "                epochs=epochs, \n",
    "                batch_size=batch_size, \n",
    "                class_weight=class_weight, \n",
    "                verbose=False)\n",
    "            train_accs.append(model.evaluate(x_train, y_train, batch_size=32, verbose=False)[1])\n",
    "            test_accs.append(model.evaluate(x_test, y_test, batch_size=32, verbose=False)[1])\n",
    "            progress_bar.update()\n",
    "    print('Avgerage Training Accuracy: %s' % np.average(train_accs))\n",
    "    print('Avgerage Testing Accuracy: %s' % np.average(test_accs))\n",
    "    return train_accs, test_accs"
   ]
  },
  {
   "cell_type": "code",
   "execution_count": 30,
   "metadata": {},
   "outputs": [
    {
     "name": "stderr",
     "output_type": "stream",
     "text": [
      "100%|██████████| 20/20 [00:41<00:00,  1.87s/it]"
     ]
    },
    {
     "name": "stdout",
     "output_type": "stream",
     "text": [
      "Avgerage Training Accuracy: 0.5412544170559084\n",
      "Avgerage Testing Accuracy: 0.492031873352974\n"
     ]
    },
    {
     "name": "stderr",
     "output_type": "stream",
     "text": [
      "\n"
     ]
    }
   ],
   "source": [
    "_, test_accs = train_and_evaluate(model, x_train_std, y_train, x_test_std, y_test)"
   ]
  },
  {
   "cell_type": "code",
   "execution_count": 31,
   "metadata": {},
   "outputs": [
    {
     "data": {
      "image/png": "[encoded data removed]",
      "text/plain": [
       "<Figure size 432x288 with 1 Axes>"
      ]
     },
     "metadata": {
      "needs_background": "light"
     },
     "output_type": "display_data"
    }
   ],
   "source": [
    "plt.violinplot(test_accs)\n",
    "plt.show()"
   ]
  },
  {
   "cell_type": "code",
   "execution_count": 32,
   "metadata": {},
   "outputs": [
    {
     "name": "stdout",
     "output_type": "stream",
     "text": [
      "Min: 0.48605577570508673\n",
      "Max: 0.5019920323474474\n"
     ]
    }
   ],
   "source": [
    "print('Min: %s' % np.min(test_accs))\n",
    "print('Max: %s' % np.max(test_accs))"
   ]
  },
  {
   "cell_type": "markdown",
   "metadata": {},
   "source": [
    "跑了20次可以得到平均的準確率，雖然差不了多少，但是解釋力強多了。 <br/>\n",
    "從violin plot可以觀察到這20次的分佈以及變異，也可以印出其中最大及最小的準確率。 <br/>\n",
    "可以發現在低準確率的部分的分布比較廣，變異較大。\n",
    "\n",
    "---"
   ]
  },
  {
   "cell_type": "markdown",
   "metadata": {},
   "source": [
    "### 增加準確率\n",
    "為了提升準確率，接下來嘗試更改參數，看看怎樣能夠得到最高準確率。"
   ]
  },
  {
   "cell_type": "code",
   "execution_count": 33,
   "metadata": {},
   "outputs": [],
   "source": [
    "hidden_units = 10\n",
    "activation = 'relu'\n",
    "l2 = 0.01\n",
    "learning_rate = 0.1\n",
    "epochs = 50\n",
    "batch_size = 32"
   ]
  },
  {
   "cell_type": "code",
   "execution_count": 34,
   "metadata": {},
   "outputs": [],
   "source": [
    "def build_model(hidden_units, activation, learning_rate):\n",
    "    model = models.Sequential()\n",
    "    model.add(layers.Dense(input_dim=5,\n",
    "                           units=hidden_units, \n",
    "                           activation=activation,\n",
    "                           kernel_regularizer=regularizers.l2(l2)))\n",
    "    model.add(layers.Dense(input_dim=hidden_units,\n",
    "                           units=1,\n",
    "                           activation='sigmoid',\n",
    "                           kernel_regularizer=regularizers.l2(l2)))\n",
    "    model.compile(loss='binary_crossentropy',\n",
    "                  # Adam is a kind of gradient descent\n",
    "                  optimizer=optimizers.Adam(lr=learning_rate),\n",
    "                  metrics=['accuracy'])\n",
    "    return model"
   ]
  },
  {
   "cell_type": "code",
   "execution_count": 35,
   "metadata": {
    "scrolled": true
   },
   "outputs": [
    {
     "name": "stderr",
     "output_type": "stream",
     "text": [
      "100%|██████████| 20/20 [01:37<00:00,  4.53s/it]"
     ]
    },
    {
     "name": "stdout",
     "output_type": "stream",
     "text": [
      "Avgerage Training Accuracy: 0.5396863957913098\n",
      "Avgerage Testing Accuracy: 0.49820717300076883\n"
     ]
    },
    {
     "name": "stderr",
     "output_type": "stream",
     "text": [
      "\n"
     ]
    }
   ],
   "source": [
    "_, __ = train_and_evaluate(model, x_train_std, y_train, x_test_std, y_test)"
   ]
  },
  {
   "cell_type": "markdown",
   "metadata": {},
   "source": [
    "這邊我以上面的參數作為參考基準，看看接下來都只更動一個參數能不能提升準確度。\n",
    "\n",
    "---\n",
    "為了使版面整潔，稍微修改一下function，才不會印出很多進度條。"
   ]
  },
  {
   "cell_type": "code",
   "execution_count": 36,
   "metadata": {},
   "outputs": [],
   "source": [
    "def train_and_evaluate_2(model, x_train, y_train, x_test, y_test, n=20):\n",
    "    train_accs = []\n",
    "    test_accs = []\n",
    "    for _ in range(n):\n",
    "        model.fit(\n",
    "            x_train, \n",
    "            y_train, \n",
    "            epochs=epochs, \n",
    "            batch_size=batch_size, \n",
    "            class_weight=class_weight, \n",
    "            verbose=False)\n",
    "        train_accs.append(model.evaluate(x_train, y_train, batch_size=32, verbose=False)[1])\n",
    "        test_accs.append(model.evaluate(x_test, y_test, batch_size=32, verbose=False)[1])\n",
    "    return train_accs, test_accs"
   ]
  },
  {
   "cell_type": "code",
   "execution_count": 37,
   "metadata": {},
   "outputs": [],
   "source": [
    "def plot_result(data_plt, x_parameter):\n",
    "    plt.xlabel(x_parameter)\n",
    "    plt.ylabel('Accuracy')\n",
    "\n",
    "    plt.plot(data_plt[x_parameter], data_plt['acc_test'], label='Test')\n",
    "    plt.plot(data_plt[x_parameter], data_plt['acc_train'], label='Train')\n",
    "    plt.legend()\n",
    "    print('The Best Testing Accuracy:')\n",
    "    print(data_plt[data_plt['acc_test'] == data_plt['acc_test'].max()])"
   ]
  },
  {
   "cell_type": "markdown",
   "metadata": {},
   "source": [
    "---\n",
    "### 更改 hidden units\n",
    "然後這邊都只跑5次，取其準確率平均。 <br />\n",
    "*但是我發現每個都跑5次也是要跑很久，會做不完，視情況跑1次就好ＱＱ"
   ]
  },
  {
   "cell_type": "code",
   "execution_count": 38,
   "metadata": {},
   "outputs": [],
   "source": [
    "data_plt = pd.DataFrame(columns=('hidden units', 'acc_train', 'acc_test'))\n",
    "count = 0\n",
    "\n",
    "for i in range(10, 36, 5):\n",
    "    hidden_units = i\n",
    "    activation = 'relu'\n",
    "    l2 = 0.01\n",
    "    learning_rate = 0.05\n",
    "    epochs = 50\n",
    "    batch_size = 32\n",
    "    \n",
    "    model = build_model(hidden_units, activation, learning_rate)\n",
    "\n",
    "    accu = train_and_evaluate_2(model, x_train_std, y_train, x_test_std, y_test, n=1)\n",
    "    \n",
    "    acc_train = np.mean(accu[0])\n",
    "    acc_test = np.mean(accu[1])\n",
    "    data_plt.loc[count] = [hidden_units, acc_train, acc_test]\n",
    "    \n",
    "    count += 1"
   ]
  },
  {
   "cell_type": "code",
   "execution_count": 39,
   "metadata": {},
   "outputs": [
    {
     "name": "stdout",
     "output_type": "stream",
     "text": [
      "The Best Testing Accuracy:\n",
      "   hidden units  acc_train  acc_test\n",
      "0          10.0   0.500442  0.486056\n",
      "1          15.0   0.500442  0.486056\n",
      "2          20.0   0.500442  0.486056\n",
      "3          25.0   0.500442  0.486056\n",
      "4          30.0   0.500442  0.486056\n",
      "5          35.0   0.500442  0.486056\n"
     ]
    },
    {
     "data": {
      "image/png": "[encoded data removed]",
      "text/plain": [
       "<Figure size 432x288 with 1 Axes>"
      ]
     },
     "metadata": {
      "needs_background": "light"
     },
     "output_type": "display_data"
    }
   ],
   "source": [
    "plot_result(data_plt, 'hidden units')"
   ]
  },
  {
   "cell_type": "markdown",
   "metadata": {},
   "source": [
    "---\n",
    "### 更改 l2（penalty）"
   ]
  },
  {
   "cell_type": "code",
   "execution_count": 40,
   "metadata": {},
   "outputs": [],
   "source": [
    "data_plt = pd.DataFrame(columns=('l2', 'acc_train', 'acc_test'))\n",
    "count = 0\n",
    "\n",
    "for i in np.arange(0.001, 0.09, 0.01):\n",
    "    hidden_units = 10\n",
    "    activation = 'relu'\n",
    "    l2 = i\n",
    "    learning_rate = 0.05\n",
    "    epochs = 50\n",
    "    batch_size = 32\n",
    "    \n",
    "    model = build_model(hidden_units, activation, learning_rate)\n",
    "\n",
    "    accu = train_and_evaluate_2(model, x_train_std, y_train, x_test_std, y_test, n=1)\n",
    "    \n",
    "    acc_train = np.mean(accu[0])\n",
    "    acc_test = np.mean(accu[1])\n",
    "    data_plt.loc[count] = [l2, acc_train, acc_test]\n",
    "    \n",
    "    count += 1"
   ]
  },
  {
   "cell_type": "code",
   "execution_count": 41,
   "metadata": {},
   "outputs": [
    {
     "name": "stdout",
     "output_type": "stream",
     "text": [
      "The Best Testing Accuracy:\n",
      "      l2  acc_train  acc_test\n",
      "0  0.001   0.533569  0.494024\n"
     ]
    },
    {
     "data": {
      "image/png": "[encoded data removed]",
      "text/plain": [
       "<Figure size 432x288 with 1 Axes>"
      ]
     },
     "metadata": {
      "needs_background": "light"
     },
     "output_type": "display_data"
    }
   ],
   "source": [
    "plot_result(data_plt, 'l2')"
   ]
  },
  {
   "cell_type": "markdown",
   "metadata": {},
   "source": [
    "### 更改 learning rate"
   ]
  },
  {
   "cell_type": "code",
   "execution_count": 42,
   "metadata": {},
   "outputs": [],
   "source": [
    "data_plt = pd.DataFrame(columns=('learning rate', 'acc_train', 'acc_test'))\n",
    "count = 0\n",
    "\n",
    "for i in np.arange(0.01, 0.5, 0.05):\n",
    "    hidden_units = 10\n",
    "    activation = 'relu'\n",
    "    l2 = 0.01\n",
    "    learning_rate = i\n",
    "    epochs = 50\n",
    "    batch_size = 32\n",
    "    \n",
    "    model = build_model(hidden_units, activation, learning_rate)\n",
    "\n",
    "    accu = train_and_evaluate_2(model, x_train_std, y_train, x_test_std, y_test, n=1)\n",
    "    \n",
    "    acc_train = np.mean(accu[0])\n",
    "    acc_test = np.mean(accu[1])\n",
    "    data_plt.loc[count] = [learning_rate, acc_train, acc_test]\n",
    "    \n",
    "    count += 1"
   ]
  },
  {
   "cell_type": "code",
   "execution_count": 43,
   "metadata": {},
   "outputs": [
    {
     "name": "stdout",
     "output_type": "stream",
     "text": [
      "The Best Testing Accuracy:\n",
      "   learning rate  acc_train  acc_test\n",
      "0           0.01   0.500442  0.486056\n",
      "1           0.06   0.500442  0.486056\n",
      "2           0.11   0.500442  0.486056\n",
      "3           0.16   0.500442  0.486056\n",
      "4           0.21   0.500442  0.486056\n",
      "5           0.26   0.500442  0.486056\n",
      "6           0.31   0.500442  0.486056\n",
      "7           0.36   0.500442  0.486056\n",
      "8           0.41   0.500442  0.486056\n",
      "9           0.46   0.500442  0.486056\n"
     ]
    },
    {
     "data": {
      "image/png": "[encoded data removed]",
      "text/plain": [
       "<Figure size 432x288 with 1 Axes>"
      ]
     },
     "metadata": {
      "needs_background": "light"
     },
     "output_type": "display_data"
    }
   ],
   "source": [
    "plot_result(data_plt, 'learning rate')"
   ]
  },
  {
   "cell_type": "markdown",
   "metadata": {},
   "source": [
    "### 更改 epochs"
   ]
  },
  {
   "cell_type": "code",
   "execution_count": 45,
   "metadata": {},
   "outputs": [],
   "source": [
    "data_plt = pd.DataFrame(columns=('epochs', 'acc_train', 'acc_test'))\n",
    "count = 0\n",
    "\n",
    "for i in np.arange(10, 60, 10):\n",
    "    hidden_units = 10\n",
    "    activation = 'relu'\n",
    "    l2 = 0.01\n",
    "    learning_rate = 0.05\n",
    "    epochs = i\n",
    "    batch_size = 32\n",
    "    \n",
    "    model = build_model(hidden_units, activation, learning_rate)\n",
    "\n",
    "    accu = train_and_evaluate_2(model, x_train_std, y_train, x_test_std, y_test, n=1)\n",
    "    \n",
    "    acc_train = np.mean(accu[0])\n",
    "    acc_test = np.mean(accu[1])\n",
    "    data_plt.loc[count] = [epochs, acc_train, acc_test]\n",
    "    \n",
    "    count += 1"
   ]
  },
  {
   "cell_type": "code",
   "execution_count": 46,
   "metadata": {},
   "outputs": [
    {
     "name": "stdout",
     "output_type": "stream",
     "text": [
      "The Best Testing Accuracy:\n",
      "   epochs  acc_train  acc_test\n",
      "0    10.0   0.500442  0.486056\n",
      "1    20.0   0.500442  0.486056\n",
      "2    30.0   0.500442  0.486056\n",
      "3    40.0   0.500442  0.486056\n",
      "4    50.0   0.500442  0.486056\n"
     ]
    },
    {
     "data": {
      "image/png": "[encoded data removed]",
      "text/plain": [
       "<Figure size 432x288 with 1 Axes>"
      ]
     },
     "metadata": {
      "needs_background": "light"
     },
     "output_type": "display_data"
    }
   ],
   "source": [
    "plot_result(data_plt, 'epochs')"
   ]
  },
  {
   "cell_type": "markdown",
   "metadata": {},
   "source": [
    "### 更改 batch size"
   ]
  },
  {
   "cell_type": "code",
   "execution_count": 47,
   "metadata": {},
   "outputs": [],
   "source": [
    "data_plt = pd.DataFrame(columns=('batch size', 'acc_train', 'acc_test'))\n",
    "count = 0\n",
    "\n",
    "for i in np.arange(10, 51, 5):\n",
    "    hidden_units = 10\n",
    "    activation = 'relu'\n",
    "    l2 = 0.01\n",
    "    learning_rate = 0.05\n",
    "    epochs = 50\n",
    "    batch_size = i\n",
    "    \n",
    "    model = build_model(hidden_units, activation, learning_rate)\n",
    "\n",
    "    accu = train_and_evaluate_2(model, x_train_std, y_train, x_test_std, y_test, n=1)\n",
    "    \n",
    "    acc_train = np.mean(accu[0])\n",
    "    acc_test = np.mean(accu[1])\n",
    "    data_plt.loc[count] = [batch_size, acc_train, acc_test]\n",
    "    \n",
    "    count += 1"
   ]
  },
  {
   "cell_type": "code",
   "execution_count": 48,
   "metadata": {},
   "outputs": [
    {
     "name": "stdout",
     "output_type": "stream",
     "text": [
      "The Best Testing Accuracy:\n",
      "   batch size  acc_train  acc_test\n",
      "0        10.0   0.500442  0.486056\n",
      "1        15.0   0.500442  0.486056\n",
      "2        20.0   0.500442  0.486056\n",
      "3        25.0   0.500442  0.486056\n",
      "4        30.0   0.500442  0.486056\n",
      "5        35.0   0.500442  0.486056\n",
      "6        40.0   0.500442  0.486056\n",
      "7        45.0   0.500442  0.486056\n",
      "8        50.0   0.500442  0.486056\n"
     ]
    },
    {
     "data": {
      "image/png": "[encoded data removed]",
      "text/plain": [
       "<Figure size 432x288 with 1 Axes>"
      ]
     },
     "metadata": {
      "needs_background": "light"
     },
     "output_type": "display_data"
    }
   ],
   "source": [
    "plot_result(data_plt, 'batch size')"
   ]
  },
  {
   "cell_type": "markdown",
   "metadata": {},
   "source": [
    "### 更改 activation"
   ]
  },
  {
   "cell_type": "code",
   "execution_count": 49,
   "metadata": {},
   "outputs": [
    {
     "name": "stdout",
     "output_type": "stream",
     "text": [
      "Avgerage Training Accuracy: 0.5004416961130742\n",
      "Avgerage Testing Accuracy: 0.48605577570508673\n"
     ]
    }
   ],
   "source": [
    "hidden_units = 10\n",
    "activation = 'sigmoid'\n",
    "l2 = 0.01\n",
    "learning_rate = 0.05\n",
    "epochs = 50\n",
    "batch_size = 32\n",
    "    \n",
    "model = build_model(hidden_units, activation, learning_rate)\n",
    "\n",
    "accu = train_and_evaluate_2(model, x_train_std, y_train, x_test_std, y_test, n=1)\n",
    "\n",
    "print('Avgerage Training Accuracy:', np.mean(accu[0]))\n",
    "print('Avgerage Testing Accuracy:', np.mean(accu[1]))"
   ]
  },
  {
   "cell_type": "code",
   "execution_count": 50,
   "metadata": {},
   "outputs": [
    {
     "name": "stdout",
     "output_type": "stream",
     "text": [
      "Avgerage Training Accuracy: 0.5004416961130742\n",
      "Avgerage Testing Accuracy: 0.48605577570508673\n"
     ]
    }
   ],
   "source": [
    "hidden_units = 10\n",
    "activation = 'tanh'\n",
    "l2 = 0.01\n",
    "learning_rate = 0.05\n",
    "epochs = 50\n",
    "batch_size = 32\n",
    "    \n",
    "model = build_model(hidden_units, activation, learning_rate)\n",
    "\n",
    "accu = train_and_evaluate_2(model, x_train_std, y_train, x_test_std, y_test, n=1)\n",
    "\n",
    "print('Avgerage Training Accuracy:', np.mean(accu[0]))\n",
    "print('Avgerage Testing Accuracy:', np.mean(accu[1]))"
   ]
  },
  {
   "cell_type": "markdown",
   "metadata": {},
   "source": [
    "**看起來，都ㄧ樣** <br />\n",
    "而且都呈現一直線，想要將個別最好的參數放在一起好像也沒意義，因為跟比較基準一樣。 <br />\n",
    "\n",
    "---"
   ]
  },
  {
   "cell_type": "markdown",
   "metadata": {},
   "source": [
    "### 增加神經網路中的layer"
   ]
  },
  {
   "cell_type": "code",
   "execution_count": 51,
   "metadata": {},
   "outputs": [],
   "source": [
    "def build_model_2(hidden_units, activation, learning_rate):\n",
    "    model = models.Sequential()\n",
    "    model.add(layers.Dense(input_dim=5,\n",
    "                           units=hidden_units, \n",
    "                           activation=activation,\n",
    "                           kernel_regularizer=regularizers.l2(l2)))\n",
    "    model.add(layers.Dense(input_dim=hidden_units,\n",
    "                           units=5,\n",
    "                           activation='sigmoid',\n",
    "                           kernel_regularizer=regularizers.l2(l2)))\n",
    "    model.add(layers.Dense(input_dim=5,\n",
    "                           units=1,\n",
    "                           activation='sigmoid',\n",
    "                           kernel_regularizer=regularizers.l2(l2)))\n",
    "    model.compile(loss='binary_crossentropy',\n",
    "                  # Adam is a kind of gradient descent\n",
    "                  optimizer=optimizers.Adam(lr=learning_rate),\n",
    "                  metrics=['accuracy'])\n",
    "    return model"
   ]
  },
  {
   "cell_type": "code",
   "execution_count": 52,
   "metadata": {
    "scrolled": true
   },
   "outputs": [
    {
     "name": "stderr",
     "output_type": "stream",
     "text": [
      "100%|██████████| 5/5 [00:43<00:00,  8.78s/it]"
     ]
    },
    {
     "name": "stdout",
     "output_type": "stream",
     "text": [
      "Avgerage Training Accuracy: 0.5004416961130742\n",
      "Avgerage Testing Accuracy: 0.48605577570508673\n"
     ]
    },
    {
     "name": "stderr",
     "output_type": "stream",
     "text": [
      "\n"
     ]
    }
   ],
   "source": [
    "hidden_units = 10\n",
    "activation = 'relu'\n",
    "l2 = 0.01\n",
    "learning_rate = 0.05\n",
    "epochs = 50\n",
    "batch_size = 32\n",
    "    \n",
    "model = build_model_2(hidden_units, activation, learning_rate)\n",
    "\n",
    "accu = train_and_evaluate(model, x_train_std, y_train, x_test_std, y_test, n=5)"
   ]
  },
  {
   "cell_type": "markdown",
   "metadata": {},
   "source": [
    "### Neural Network 小結\n",
    "不管是更改神經網路中個別參數或是增加layer都無法有效增加準確率， <br />\n",
    "看來這一個資料並不適合使用神經網路來預測。 <br />\n",
    "有可能是這個問題本身就不是一個可以預測的問題，也有可能是神經網路根本就不是為這類問題而生。\n",
    "\n",
    "---\n",
    "---"
   ]
  },
  {
   "cell_type": "markdown",
   "metadata": {},
   "source": [
    "## 總結\n",
    "這份作業使用標普500指數中開盤價、收盤價、最高價、最低價、當日交易量來預測隔日交易量增減， <br />\n",
    "總共使用了三種機器學習的方法，分別是Logistic Regression、SVM和Neural Network， <br />\n",
    "用2009年到2017年的資料來訓練並預測2018年。\n",
    "\n",
    "---\n",
    "總體來看，使用羅吉斯迴歸和神經網路的結果都不甚理想，準確率都無法穩定的超過0.5， <br />\n",
    "而使用SVM中kernel=rbf的情況下準確率則能夠到達60%。 <br />\n",
    "\n",
    "但是我覺得這個本身就不是一個適合預測的問題，或者應該說，就我們現有的資料來看，根本不可能作出多精準的預測，<br />\n",
    "能夠掌握內線交易的人都不一定說得準了，更何況是只能掌握五個參數。 <br />\n",
    "股市的變化會受到非常非常多的因素影響，又或者是根本沒有規律， <br />\n",
    "也許需要掌握更多變因與更長時間資料後就能夠增進一些準確率。\n",
    "\n",
    "---\n",
    "用了那麼多方法後雖然不能保證完全理解其中原理， <br />\n",
    "但對於應用的熟悉度來說真的大大提升。"
   ]
  },
  {
   "cell_type": "code",
   "execution_count": null,
   "metadata": {},
   "outputs": [],
   "source": []
  }
 ],
 "metadata": {
  "kernelspec": {
   "display_name": "Python 3",
   "language": "python",
   "name": "python3"
  },
  "language_info": {
   "codemirror_mode": {
    "name": "ipython",
    "version": 3
   },
   "file_extension": ".py",
   "mimetype": "text/x-python",
   "name": "python",
   "nbconvert_exporter": "python",
   "pygments_lexer": "ipython3",
   "version": "3.6.6"
  }
 },
 "nbformat": 4,
 "nbformat_minor": 2
}
